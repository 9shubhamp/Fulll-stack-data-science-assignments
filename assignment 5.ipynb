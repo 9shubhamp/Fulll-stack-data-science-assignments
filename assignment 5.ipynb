{
 "cells": [
  {
   "cell_type": "markdown",
   "id": "edc6fb5e",
   "metadata": {},
   "source": [
    "1.What does an empty dictionary's code look like?\n",
    "\n",
    "ans : {} "
   ]
  },
  {
   "cell_type": "markdown",
   "id": "9bb7bb8e",
   "metadata": {},
   "source": [
    "2.What is the value of a dictionary value with the key 'foo' and the value 42?\n",
    "\n",
    "ans: d = {'foo':42}\n",
    "    \n",
    "    d.value = 42"
   ]
  },
  {
   "cell_type": "markdown",
   "id": "08d32856",
   "metadata": {},
   "source": [
    "3.What is the most significant distinction between a dictionary and a list?\n",
    "\n",
    "ans: lists are ordered sequences of objects whereas dictonaries are unordered sets."
   ]
  },
  {
   "cell_type": "markdown",
   "id": "eee1fa4e",
   "metadata": {},
   "source": [
    "4.What happens if you try to access spam['foo'] if spam is {'bar': 100}?\n",
    "\n",
    "ans: it will give  key error"
   ]
  },
  {
   "cell_type": "markdown",
   "id": "2e2ae9ac",
   "metadata": {},
   "source": [
    "5. If a dictionary is stored in spam, what is the difference between the expressions 'cat' in spam and 'cat' in spam.keys()?\n",
    "\n",
    "ans: no difference. both are strings."
   ]
  },
  {
   "cell_type": "markdown",
   "id": "18bd49f2",
   "metadata": {},
   "source": [
    "6. If a dictionary is stored in spam, what is the difference between the expressions 'cat' in spam and 'cat' in spam.values()?\n",
    "\n",
    "ans: no difference. both are strings."
   ]
  },
  {
   "cell_type": "markdown",
   "id": "73b0b57a",
   "metadata": {},
   "source": [
    "7. What is a shortcut for the following code?\n",
    "if 'color' not in spam:\n",
    "spam['color'] = 'black'\n",
    "\n",
    "ans: spam.setdefault('color','black')"
   ]
  },
  {
   "cell_type": "markdown",
   "id": "1d5e01b9",
   "metadata": {},
   "source": [
    "8. How do you \"pretty print\" dictionary values using which module and function?\n",
    "\n",
    "ans: using pprint module and .pprint() function\n",
    "    \n",
    "import pprint\n",
    "pprint.pprint(dict_array)"
   ]
  }
 ],
 "metadata": {
  "kernelspec": {
   "display_name": "Python 3 (ipykernel)",
   "language": "python",
   "name": "python3"
  },
  "language_info": {
   "codemirror_mode": {
    "name": "ipython",
    "version": 3
   },
   "file_extension": ".py",
   "mimetype": "text/x-python",
   "name": "python",
   "nbconvert_exporter": "python",
   "pygments_lexer": "ipython3",
   "version": "3.9.7"
  }
 },
 "nbformat": 4,
 "nbformat_minor": 5
}
