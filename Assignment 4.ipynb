{
 "cells": [
  {
   "cell_type": "markdown",
   "id": "f88f614a",
   "metadata": {},
   "source": [
    "1.What exactly is []?\n",
    "\n",
    "ans: [] is empty list. "
   ]
  },
  {
   "cell_type": "code",
   "execution_count": null,
   "id": "1d3e6311",
   "metadata": {},
   "outputs": [],
   "source": []
  },
  {
   "cell_type": "markdown",
   "id": "95c6b0da",
   "metadata": {},
   "source": [
    "2.In a list of values stored in a variable called spam, how would you assign the value 'hello' as the third value? (Assume [2, 4, 6, 8, 10] are in spam.)"
   ]
  },
  {
   "cell_type": "code",
   "execution_count": 2,
   "id": "53e3c6b0",
   "metadata": {},
   "outputs": [
    {
     "data": {
      "text/plain": [
       "[2, 4, 'hello', 8, 10]"
      ]
     },
     "execution_count": 2,
     "metadata": {},
     "output_type": "execute_result"
    }
   ],
   "source": [
    "spam = [2, 4, 6, 8, 10] \n",
    "spam[2] = 'hello'\n",
    "spam"
   ]
  },
  {
   "cell_type": "markdown",
   "id": "8e64c498",
   "metadata": {},
   "source": [
    "# Let's pretend the spam includes the list ['a', 'b', 'c', 'd'] for the next three queries.\n",
    "\n",
    "3.What is the value of spam[int(int('3' * 2) / 11)]?\n",
    "    ans: 'd'\n",
    "\n",
    "4.What is the value of spam[-1]?\n",
    "    ans: 'd'\n",
    "    \n",
    "5.What is the value of spam[:2]?\n",
    "    ans: ['a','b']\n"
   ]
  },
  {
   "cell_type": "markdown",
   "id": "14d484b3",
   "metadata": {},
   "source": [
    "# Let's pretend bacon has the list [3.14, 'cat,' 11, 'cat,' True] for the next three questions.\n",
    "\n",
    "6.What is the value of bacon.index('cat')?\n",
    "ans: 1\n",
    "    \n",
    "7.How does bacon.append(99) change the look of the list value in bacon?\n",
    "[3.14, 'cat,' 11, 'cat,' True, 99]\n",
    "\n",
    "8.How does bacon.remove('cat') change the look of the list in bacon?\n",
    "ans: [3.14, 11, 'cat,' True]\n"
   ]
  },
  {
   "cell_type": "markdown",
   "id": "c6f9e11b",
   "metadata": {},
   "source": [
    "9.What are the list concatenation and list replication operators?\n",
    "\n",
    "ans:  + and * are list concatenation and list replication operators respectively"
   ]
  },
  {
   "cell_type": "markdown",
   "id": "6ce840ba",
   "metadata": {},
   "source": [
    "\n",
    "\n",
    "\n",
    "\n",
    "\n",
    "\n",
    "\n",
    "\n",
    "\n"
   ]
  },
  {
   "cell_type": "markdown",
   "id": "a17557d6",
   "metadata": {},
   "source": [
    "11.What are the two methods for removing items from a list\n",
    "\n",
    "ans: .remove() removes the first occurnce of number mentioned in its argument.\n",
    ".pop() will delete the element mentioned in its argument."
   ]
  },
  {
   "cell_type": "markdown",
   "id": "8436d8a0",
   "metadata": {},
   "source": [
    "12.Describe how list values and string values are identical.\n",
    "\n",
    "ans: list and string are sequential collection of data values and characters respectively. list and string are sequences. Value of a character will remain same in both data types. "
   ]
  },
  {
   "cell_type": "markdown",
   "id": "25a34452",
   "metadata": {},
   "source": [
    "13.What's the difference between tuples and lists?\n",
    "\n",
    "ans:tuples are immutable and lists are mutable. we can change the values inside list but not inside tuple."
   ]
  },
  {
   "cell_type": "markdown",
   "id": "32e183ff",
   "metadata": {},
   "source": [
    "14.How do you type a tuple value that only contains the integer 42?\n",
    "\n",
    "ans: tuppp = (42)"
   ]
  },
  {
   "cell_type": "code",
   "execution_count": 27,
   "id": "4a03f64c",
   "metadata": {},
   "outputs": [],
   "source": [
    "tuppp = (42)"
   ]
  },
  {
   "cell_type": "code",
   "execution_count": 28,
   "id": "ae09a843",
   "metadata": {},
   "outputs": [
    {
     "data": {
      "text/plain": [
       "int"
      ]
     },
     "execution_count": 28,
     "metadata": {},
     "output_type": "execute_result"
    }
   ],
   "source": [
    "type(tuppp)"
   ]
  },
  {
   "cell_type": "markdown",
   "id": "f3f83dcf",
   "metadata": {},
   "source": [
    "15. How do you get a list value's tuple form? How do you get a tuple value's list form?\n",
    "\n",
    "ans: by type casting we can change the data type of any data"
   ]
  },
  {
   "cell_type": "code",
   "execution_count": 29,
   "id": "eaec7fbc",
   "metadata": {},
   "outputs": [],
   "source": [
    "s = [1,2,3]"
   ]
  },
  {
   "cell_type": "code",
   "execution_count": 34,
   "id": "c6ecf69b",
   "metadata": {},
   "outputs": [
    {
     "name": "stdout",
     "output_type": "stream",
     "text": [
      "(1, 2, 3)\n"
     ]
    },
    {
     "data": {
      "text/plain": [
       "tuple"
      ]
     },
     "execution_count": 34,
     "metadata": {},
     "output_type": "execute_result"
    }
   ],
   "source": [
    "v = tuple(s)\n",
    "print(v)\n",
    "type(v)"
   ]
  },
  {
   "cell_type": "code",
   "execution_count": 35,
   "id": "db521570",
   "metadata": {},
   "outputs": [
    {
     "name": "stdout",
     "output_type": "stream",
     "text": [
      "(1, 2, 3)\n"
     ]
    },
    {
     "data": {
      "text/plain": [
       "tuple"
      ]
     },
     "execution_count": 35,
     "metadata": {},
     "output_type": "execute_result"
    }
   ],
   "source": [
    "list(v)\n",
    "print(v)\n",
    "type(v)"
   ]
  },
  {
   "cell_type": "markdown",
   "id": "7f218bd7",
   "metadata": {},
   "source": [
    "16.Variables that \"contain\" list values are not necessarily lists themselves. Instead, what do they contain?\n",
    "\n",
    "ans: variable contains references to list values."
   ]
  },
  {
   "cell_type": "markdown",
   "id": "a6bc2e0c",
   "metadata": {},
   "source": [
    "17.How do you distinguish between copy.copy() and copy.deepcopy()?\n",
    "\n",
    "ans: a shallow copy constructs a new compound object and then inserts references into it to the objects fond in the original. a deep copy constructs a new compound object and then recursively inserts copies into it of the objects found in the original"
   ]
  },
  {
   "cell_type": "code",
   "execution_count": null,
   "id": "c51b0ec0",
   "metadata": {},
   "outputs": [],
   "source": []
  }
 ],
 "metadata": {
  "kernelspec": {
   "display_name": "Python 3 (ipykernel)",
   "language": "python",
   "name": "python3"
  },
  "language_info": {
   "codemirror_mode": {
    "name": "ipython",
    "version": 3
   },
   "file_extension": ".py",
   "mimetype": "text/x-python",
   "name": "python",
   "nbconvert_exporter": "python",
   "pygments_lexer": "ipython3",
   "version": "3.9.7"
  }
 },
 "nbformat": 4,
 "nbformat_minor": 5
}
