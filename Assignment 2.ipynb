{
 "cells": [
  {
   "cell_type": "markdown",
   "id": "a87f908c",
   "metadata": {},
   "source": [
    "1.What are the two values of the Boolean data type? How do you write them?\n",
    "\n",
    "  ans: true and false are two values of boolean data type. They are written as \"True\" and \"False\"."
   ]
  },
  {
   "cell_type": "markdown",
   "id": "dfdf2288",
   "metadata": {},
   "source": [
    "2.What are the three different types of Boolean operators?\n",
    "\n",
    " ans: and, or, not are three types of boolean operators. and, or operators needs two operands for evaluation of statememt as true or false while not operator needs only one operand for evaluation."
   ]
  },
  {
   "cell_type": "markdown",
   "id": "4bc09151",
   "metadata": {},
   "source": [
    "3. Make a list of each Boolean operator&#39;s truth tables (i.e. every possible combination of Boolean\n",
    "values for the operator and what it evaluate ).\n",
    "\n",
    "ans:\n",
    "\n",
    "(i) truth table of 'and'\n",
    "\n",
    "A\t B    output\n",
    "0\t 0\t    0\n",
    "0\t 1\t    0\n",
    "1\t 0\t    0\n",
    "1\t 1\t    1\n",
    "\n",
    "\n",
    "(ii) truth table of 'or'\n",
    "\n",
    "A\t B    output\n",
    "0\t 0\t    0\n",
    "0\t 1\t    1\n",
    "1\t 0\t    1\n",
    "1\t 1\t    1\n",
    "\n",
    "(iii) truth table of 'not'\n",
    "\n",
    "A\t  output\n",
    "0\t    0\n",
    "0\t    0\n",
    "1\t    0\n",
    "1\t    1\n",
    "\n"
   ]
  },
  {
   "cell_type": "markdown",
   "id": "5b6669f0",
   "metadata": {},
   "source": [
    "4.What are the values of the following expressions?\n",
    "\n",
    "(5 > 4) and (3 == 5)\n",
    "\n",
    "not (5 > 4)\n",
    "\n",
    "(5 > 4) or (3 == 5)\n",
    "\n",
    "not ((5 > 4) or (3 == 5))\n",
    "\n",
    "(True and True) and (True == False)\n",
    "\n",
    "(not False) or (not True)\n"
   ]
  },
  {
   "cell_type": "code",
   "execution_count": 1,
   "id": "13cd00e6",
   "metadata": {},
   "outputs": [
    {
     "data": {
      "text/plain": [
       "False"
      ]
     },
     "execution_count": 1,
     "metadata": {},
     "output_type": "execute_result"
    }
   ],
   "source": [
    "#Answer\n",
    "\n",
    "(5 > 4) and (3 == 5)"
   ]
  },
  {
   "cell_type": "code",
   "execution_count": 2,
   "id": "1b802155",
   "metadata": {},
   "outputs": [
    {
     "data": {
      "text/plain": [
       "False"
      ]
     },
     "execution_count": 2,
     "metadata": {},
     "output_type": "execute_result"
    }
   ],
   "source": [
    "not (5 > 4)"
   ]
  },
  {
   "cell_type": "code",
   "execution_count": 3,
   "id": "b7c717d5",
   "metadata": {},
   "outputs": [
    {
     "data": {
      "text/plain": [
       "True"
      ]
     },
     "execution_count": 3,
     "metadata": {},
     "output_type": "execute_result"
    }
   ],
   "source": [
    "(5 > 4) or (3 == 5)"
   ]
  },
  {
   "cell_type": "code",
   "execution_count": 4,
   "id": "db562318",
   "metadata": {},
   "outputs": [
    {
     "data": {
      "text/plain": [
       "False"
      ]
     },
     "execution_count": 4,
     "metadata": {},
     "output_type": "execute_result"
    }
   ],
   "source": [
    "not ((5 > 4) or (3 == 5))\n"
   ]
  },
  {
   "cell_type": "code",
   "execution_count": 5,
   "id": "2d7f721f",
   "metadata": {},
   "outputs": [
    {
     "data": {
      "text/plain": [
       "False"
      ]
     },
     "execution_count": 5,
     "metadata": {},
     "output_type": "execute_result"
    }
   ],
   "source": [
    "(True and True) and (True == False)"
   ]
  },
  {
   "cell_type": "code",
   "execution_count": 6,
   "id": "68bd2891",
   "metadata": {},
   "outputs": [
    {
     "data": {
      "text/plain": [
       "True"
      ]
     },
     "execution_count": 6,
     "metadata": {},
     "output_type": "execute_result"
    }
   ],
   "source": [
    "(not False) or (not True)"
   ]
  },
  {
   "cell_type": "code",
   "execution_count": null,
   "id": "e2b14216",
   "metadata": {},
   "outputs": [],
   "source": []
  },
  {
   "cell_type": "markdown",
   "id": "ab983dd4",
   "metadata": {},
   "source": [
    "5.What are the six comparison operators?\n",
    "\n",
    "ans:\n",
    "    \n",
    "     (i)   equal to ( == )\n",
    "\n",
    "     (ii)  less than ( < )\n",
    "     \n",
    "     (iii) greater than ( > )\n",
    "     \n",
    "     (iv) less than eqal to ( <= )\n",
    "     \n",
    "     (v)  greater than eqal to ( >= )\n",
    "     \n",
    "     (vi) not eqal to ( != )"
   ]
  },
  {
   "cell_type": "markdown",
   "id": "3599bba0",
   "metadata": {},
   "source": [
    "6.How do you tell the difference between the equal to and assignment operators?Describe a condition and when you would use one.\n",
    "\n",
    "ans: \n",
    "\n",
    "    The “=” is used to assign the value on the right to the variable on the left. \n",
    "     eg. a = 34\n",
    "     \n",
    "     The == symbol is a comparison operator and called equal to operator. It returns true if operands on either side are equal, otherwise it returns false\n",
    "     >>> 11+2 == 10\n",
    "     False"
   ]
  },
  {
   "cell_type": "markdown",
   "id": "56bd76a6",
   "metadata": {},
   "source": [
    "7.Identify the three blocks in this code:\n",
    "\n",
    "spam = 0\n",
    "if spam == 10:\n",
    "print('eggs')\n",
    "if spam > 5:\n",
    "print('bacon')\n",
    "else:\n",
    "print('ham')\n",
    "print('spam')\n",
    "print('spam')\n"
   ]
  },
  {
   "cell_type": "code",
   "execution_count": 8,
   "id": "b80c6767",
   "metadata": {},
   "outputs": [
    {
     "name": "stdout",
     "output_type": "stream",
     "text": [
      "ham\n",
      "spam\n",
      "spam\n"
     ]
    }
   ],
   "source": [
    "#Answer\n",
    "\n",
    "spam = 0\n",
    "\n",
    "if spam == 10:\n",
    "    print('eggs')\n",
    "if spam > 5:\n",
    "    print('bacon')\n",
    "else:\n",
    "    print('ham')\n",
    "    print('spam')\n",
    "    print('spam')\n"
   ]
  },
  {
   "cell_type": "markdown",
   "id": "f625f1bf",
   "metadata": {},
   "source": [
    "8.Write code that prints Hello if 1 is stored in spam, prints Howdy if 2 is stored in spam, and prints Greetings! if anything else is stored in spam."
   ]
  },
  {
   "cell_type": "code",
   "execution_count": null,
   "id": "c3da6abb",
   "metadata": {},
   "outputs": [],
   "source": [
    "#answer\n",
    "spam = input()\n",
    "\n",
    "if spam == 1:\n",
    "    print(\"Hello\")\n",
    "elif spam == 2:\n",
    "    print(\"Howdy\")\n",
    "else:\n",
    "    print(\"Greetings!\")"
   ]
  },
  {
   "cell_type": "markdown",
   "id": "70b1646f",
   "metadata": {},
   "source": [
    "9.If your programme is stuck in an endless loop, what keys you’ll press?\n",
    "\n",
    " ans: Kernal > Restart"
   ]
  },
  {
   "cell_type": "markdown",
   "id": "ece7e778",
   "metadata": {},
   "source": [
    "10.How can you tell the difference between break and continue?\n",
    "\n",
    "ans: Break forces the execution to exit or “break” a for or while conditional loop. The continue statement is used to skip code within a loop for certain iterations of the loop."
   ]
  },
  {
   "cell_type": "markdown",
   "id": "53db62e3",
   "metadata": {},
   "source": [
    "11. In a for loop, what is the difference between range(10), range(0, 10), and range(0, 10, 1)?\n",
    "\n",
    "ans: There is no difference between any of these three. All of them represents same range of (0,10)."
   ]
  },
  {
   "cell_type": "markdown",
   "id": "163841a9",
   "metadata": {},
   "source": [
    "12. Write a short program that prints the numbers 1 to 10 using a for loop. Then write an equivalent program that prints the numbers 1 to 10 using a while loop."
   ]
  },
  {
   "cell_type": "code",
   "execution_count": 4,
   "id": "fcf6d948",
   "metadata": {},
   "outputs": [
    {
     "name": "stdout",
     "output_type": "stream",
     "text": [
      "1\n",
      "2\n",
      "3\n",
      "4\n",
      "5\n",
      "6\n",
      "7\n",
      "8\n",
      "9\n",
      "10\n"
     ]
    }
   ],
   "source": [
    "#Answer\n",
    "for i in range(1,11):\n",
    "    print(i)"
   ]
  },
  {
   "cell_type": "code",
   "execution_count": 1,
   "id": "413ef26c",
   "metadata": {},
   "outputs": [
    {
     "name": "stdout",
     "output_type": "stream",
     "text": [
      "1\n",
      "2\n",
      "3\n",
      "4\n",
      "5\n",
      "6\n",
      "7\n",
      "8\n",
      "9\n",
      "10\n"
     ]
    }
   ],
   "source": [
    "i = 1\n",
    "while i<11:\n",
    "    print(i)\n",
    "    i = i + 1\n",
    "    "
   ]
  },
  {
   "cell_type": "markdown",
   "id": "39575aa2",
   "metadata": {},
   "source": [
    "13.If you had a function named bacon() inside a module named spam, how would you call it after importing spam?\n",
    "\n",
    " ans: spam.bacon()"
   ]
  },
  {
   "cell_type": "code",
   "execution_count": null,
   "id": "618ed614",
   "metadata": {},
   "outputs": [],
   "source": []
  }
 ],
 "metadata": {
  "kernelspec": {
   "display_name": "Python 3 (ipykernel)",
   "language": "python",
   "name": "python3"
  },
  "language_info": {
   "codemirror_mode": {
    "name": "ipython",
    "version": 3
   },
   "file_extension": ".py",
   "mimetype": "text/x-python",
   "name": "python",
   "nbconvert_exporter": "python",
   "pygments_lexer": "ipython3",
   "version": "3.9.7"
  }
 },
 "nbformat": 4,
 "nbformat_minor": 5
}
