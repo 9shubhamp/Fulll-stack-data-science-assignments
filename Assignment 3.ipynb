{
 "cells": [
  {
   "cell_type": "markdown",
   "id": "3e631be9",
   "metadata": {},
   "source": [
    "# 1. Why are functions advantageous to have in your programs?"
   ]
  },
  {
   "cell_type": "markdown",
   "id": "d23173c4",
   "metadata": {},
   "source": [
    "functions reduce the need for duplicate code. This makes programs shorter easier to read and easier to update. "
   ]
  },
  {
   "cell_type": "markdown",
   "id": "aa366271",
   "metadata": {},
   "source": [
    "# 2. When does the code in a function run: when it's specified or when it's called?"
   ]
  },
  {
   "cell_type": "markdown",
   "id": "c4f137d0",
   "metadata": {},
   "source": [
    "when it is called"
   ]
  },
  {
   "cell_type": "markdown",
   "id": "038db2ba",
   "metadata": {},
   "source": [
    "# 3. What statement creates a function?"
   ]
  },
  {
   "cell_type": "markdown",
   "id": "8fd7f219",
   "metadata": {},
   "source": [
    "The 'def' keyword is a statement for defining a function in python"
   ]
  },
  {
   "cell_type": "markdown",
   "id": "d43404fc",
   "metadata": {},
   "source": [
    "# 4. What is the difference between a function and a function call?"
   ]
  },
  {
   "cell_type": "markdown",
   "id": "8a9a2ea5",
   "metadata": {},
   "source": [
    "A function call means invoking or calling that function. A function is procedure to acheive a particular result while function call is using this function to acheive that task."
   ]
  },
  {
   "cell_type": "markdown",
   "id": "b44ea5a1",
   "metadata": {},
   "source": [
    "# 5. How many global scopes are there in a Python program? How many local scopes?\n",
    "there is only one global and one local scope in python.\n"
   ]
  },
  {
   "cell_type": "markdown",
   "id": "7c4ba8cc",
   "metadata": {},
   "source": [
    "# 6. What happens to variables in a local scope when the function call returns?\n",
    "After the function call returns, local variable gets destroyed."
   ]
  },
  {
   "cell_type": "markdown",
   "id": "0a134441",
   "metadata": {},
   "source": [
    "# 7. What is the concept of a return value? Is it possible to have a return value in an expression?\n",
    "Return value is value of that function after completing it's task. Yes it is possible to have a return value in an expression."
   ]
  },
  {
   "cell_type": "markdown",
   "id": "e713f0b1",
   "metadata": {},
   "source": [
    "# 8. If a function does not have a return statement, what is the return value of a call to that function?\n",
    "None. Function will not return any value."
   ]
  },
  {
   "cell_type": "markdown",
   "id": "e39aea16",
   "metadata": {},
   "source": [
    "# 9. How do you make a function variable refer to the global variable?\n",
    "A variable created inside the function can be referred to the global variabe by using global keyword.\n",
    "\n"
   ]
  },
  {
   "cell_type": "code",
   "execution_count": 2,
   "id": "68268c8f",
   "metadata": {},
   "outputs": [
    {
     "name": "stdout",
     "output_type": "stream",
     "text": [
      "his name is raj\n"
     ]
    }
   ],
   "source": [
    "#for example\n",
    "def funct():\n",
    "    global x\n",
    "    x = 'raj'\n",
    "funct()\n",
    "print('his name is '+x)"
   ]
  },
  {
   "cell_type": "markdown",
   "id": "447822ec",
   "metadata": {},
   "source": [
    "# 10. What is the data type of None?\n",
    "NoneType"
   ]
  },
  {
   "cell_type": "markdown",
   "id": "349293c3",
   "metadata": {},
   "source": [
    "# 11. What does the sentence import areallyourpetsnamederic do?\n",
    "It gives an error because no module with such name exists in python. If we alredy have created a module with such name, it will import that module in our working program."
   ]
  },
  {
   "cell_type": "code",
   "execution_count": 4,
   "id": "494a8b5a",
   "metadata": {},
   "outputs": [
    {
     "ename": "ModuleNotFoundError",
     "evalue": "No module named 'areallyourpetsnamederic'",
     "output_type": "error",
     "traceback": [
      "\u001b[1;31m---------------------------------------------------------------------------\u001b[0m",
      "\u001b[1;31mModuleNotFoundError\u001b[0m                       Traceback (most recent call last)",
      "\u001b[1;32m~\\AppData\\Local\\Temp/ipykernel_7660/1212523305.py\u001b[0m in \u001b[0;36m<module>\u001b[1;34m\u001b[0m\n\u001b[1;32m----> 1\u001b[1;33m \u001b[1;32mimport\u001b[0m \u001b[0mareallyourpetsnamederic\u001b[0m\u001b[1;33m\u001b[0m\u001b[1;33m\u001b[0m\u001b[0m\n\u001b[0m",
      "\u001b[1;31mModuleNotFoundError\u001b[0m: No module named 'areallyourpetsnamederic'"
     ]
    }
   ],
   "source": [
    "import areallyourpetsnamederic "
   ]
  },
  {
   "cell_type": "markdown",
   "id": "cdf375be",
   "metadata": {},
   "source": [
    "# 12. If you had a bacon() feature in a spam module, what would you call it after importing spam?\n",
    "spam.bacon()"
   ]
  },
  {
   "cell_type": "markdown",
   "id": "a77d0a77",
   "metadata": {},
   "source": [
    "# 13. What can you do to save a programme from crashing if it encounters an error?\n",
    "We can use try and except statements to handle exception so that whenever an error will occur, an exception is thrown without crashing the program. "
   ]
  },
  {
   "cell_type": "markdown",
   "id": "6a8d7797",
   "metadata": {},
   "source": [
    "# 14. What is the purpose of the try clause? What is the purpose of the except clause?"
   ]
  },
  {
   "cell_type": "markdown",
   "id": "c6722e02",
   "metadata": {},
   "source": [
    "The try clause checks block of code for errors. The code inside the block will execute if there is no error. The except clause will handle the error without crashing the program"
   ]
  },
  {
   "cell_type": "code",
   "execution_count": null,
   "id": "80b25255",
   "metadata": {},
   "outputs": [],
   "source": []
  }
 ],
 "metadata": {
  "kernelspec": {
   "display_name": "Python 3 (ipykernel)",
   "language": "python",
   "name": "python3"
  },
  "language_info": {
   "codemirror_mode": {
    "name": "ipython",
    "version": 3
   },
   "file_extension": ".py",
   "mimetype": "text/x-python",
   "name": "python",
   "nbconvert_exporter": "python",
   "pygments_lexer": "ipython3",
   "version": "3.9.7"
  }
 },
 "nbformat": 4,
 "nbformat_minor": 5
}
