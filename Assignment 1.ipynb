{
 "cells": [
  {
   "cell_type": "markdown",
   "id": "8f4789ba",
   "metadata": {},
   "source": [
    "1. In the below elements which of them are values or an expression? eg:- values can be\n",
    "integer or string and expressions will be mathematical operators.\n",
    "* \n",
    "'hello'   \n",
    "-87.8   \n",
    "-    \n",
    "/     \n",
    "+     \n",
    "6\n",
    "\n",
    "   Answer :\n",
    "            Values     : 'hello', -87.8, 6\n",
    "            Expressions: -,/,+\n",
    "        "
   ]
  },
  {
   "cell_type": "markdown",
   "id": "0ab86802",
   "metadata": {},
   "source": [
    "2. What is the difference between string and variable?\n",
    "\n",
    "    Answer: String is a data type. String shows values inside quotes. While variable can store any type of data like strings, lists, dictioneries, sets, tuples etc. "
   ]
  },
  {
   "cell_type": "markdown",
   "id": "32b99ee5",
   "metadata": {},
   "source": [
    "3. Describe three different data types.\n",
    "       \n",
    "   i) String - Strings are written inside quotes. 'str' is used for denoting strings. String can be collection of letters, numbers or any other characters. Strings are immutable. Strings are ordered sequences. Indexing and slicing can be done. Two or more Strings can be concatenated with each other.   \n",
    "     ii) List - Lists literals are written inside square bracket. They are denoted by 'list'. Lists are mutable unlike strings. We can replace or remove any object from a list. list can posses variety of objects like strings, booleans, intgers and others. Indexing can be done on lists.\n",
    " \n",
    " iii) Tuples - Tuples are written inside brackets (). They are immutable. We can not replace any object from tuples.Though slicing is possible. .index() and .count() operations can be done on tuple.\n"
   ]
  },
  {
   "cell_type": "markdown",
   "id": "fb2d9491",
   "metadata": {},
   "source": [
    "4. What is an expression made up of? What do all expressions do?\n",
    "\n",
    "Ans: An expression is combination of variables, operators and literals. Evalution of expression produces value. \n",
    "       "
   ]
  },
  {
   "cell_type": "markdown",
   "id": "267514f7",
   "metadata": {},
   "source": [
    "5. This assignment statements, like spam = 10. What is the difference between an\n",
    "expression and a statement?\n",
    "\n",
    "ans: Evaluation of an expression will always give a result or value but execution of statement may or may not give a result in output. A statement does something like creating a variable or evaluating a value.\n",
    "\n"
   ]
  },
  {
   "cell_type": "markdown",
   "id": "318f52d1",
   "metadata": {},
   "source": [
    "6. After running the following code, what does the variable bacon contain?\n",
    "\n",
    "bacon = 22\n",
    "bacon + 1\n",
    "\n",
    "ans:"
   ]
  },
  {
   "cell_type": "code",
   "execution_count": 3,
   "id": "5a42844b",
   "metadata": {},
   "outputs": [
    {
     "data": {
      "text/plain": [
       "23"
      ]
     },
     "execution_count": 3,
     "metadata": {},
     "output_type": "execute_result"
    }
   ],
   "source": [
    "bacon = 22\n",
    "bacon + 1"
   ]
  },
  {
   "cell_type": "markdown",
   "id": "09cf0380",
   "metadata": {},
   "source": [
    "7. What should the values of the following two terms be?\n",
    "\n",
    "'spam' + 'spamspam'\n",
    "\n",
    "'spam' * 3\n",
    "\n",
    "ans:\n"
   ]
  },
  {
   "cell_type": "code",
   "execution_count": 4,
   "id": "ceb47753",
   "metadata": {},
   "outputs": [
    {
     "data": {
      "text/plain": [
       "'spamspamspam'"
      ]
     },
     "execution_count": 4,
     "metadata": {},
     "output_type": "execute_result"
    }
   ],
   "source": [
    "'spam' + 'spamspam'"
   ]
  },
  {
   "cell_type": "code",
   "execution_count": 5,
   "id": "0a9dc69d",
   "metadata": {},
   "outputs": [
    {
     "data": {
      "text/plain": [
       "'spamspamspam'"
      ]
     },
     "execution_count": 5,
     "metadata": {},
     "output_type": "execute_result"
    }
   ],
   "source": [
    "'spam' * 3"
   ]
  },
  {
   "cell_type": "markdown",
   "id": "ba58ca53",
   "metadata": {},
   "source": [
    "8. Why is eggs a valid variable name while 100 is invalid?\n",
    "\n",
    " ans: Because in python a variable must start with letter or underscore character. A variable can not start with a number. "
   ]
  },
  {
   "cell_type": "markdown",
   "id": "5ccc6d0b",
   "metadata": {},
   "source": [
    "9. What three functions can be used to get the integer, floating-point number, or string version of a value?\n",
    "\n",
    " ans: int(), float(), str() ."
   ]
  },
  {
   "cell_type": "markdown",
   "id": "3751dd2f",
   "metadata": {},
   "source": [
    "10. Why does this expression cause an error? How can you fix it?\n",
    "\n",
    "'I have eaten ' + 99 + ' burritos.'\n",
    "\n",
    " ans: Becasue strings can concatenate only with strings. Here 99 is an integer. If we put 99 inside single or double apostrophe then it will become a string. Now we can concatenate all strings.\n"
   ]
  },
  {
   "cell_type": "code",
   "execution_count": 7,
   "id": "e1d7b144",
   "metadata": {},
   "outputs": [
    {
     "data": {
      "text/plain": [
       "'I have eaten 99 burritos.'"
      ]
     },
     "execution_count": 7,
     "metadata": {},
     "output_type": "execute_result"
    }
   ],
   "source": [
    "'I have eaten ' + '99' + ' burritos.'"
   ]
  },
  {
   "cell_type": "code",
   "execution_count": null,
   "id": "586c7d13",
   "metadata": {},
   "outputs": [],
   "source": []
  }
 ],
 "metadata": {
  "kernelspec": {
   "display_name": "Python 3 (ipykernel)",
   "language": "python",
   "name": "python3"
  },
  "language_info": {
   "codemirror_mode": {
    "name": "ipython",
    "version": 3
   },
   "file_extension": ".py",
   "mimetype": "text/x-python",
   "name": "python",
   "nbconvert_exporter": "python",
   "pygments_lexer": "ipython3",
   "version": "3.9.7"
  }
 },
 "nbformat": 4,
 "nbformat_minor": 5
}
